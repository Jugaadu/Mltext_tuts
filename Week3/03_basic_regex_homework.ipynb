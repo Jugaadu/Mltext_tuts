{
 "cells": [
  {
   "cell_type": "markdown",
   "metadata": {
    "deletable": true,
    "editable": true
   },
   "source": [
    "# Basic Regex Homework"
   ]
  },
  {
   "cell_type": "code",
   "execution_count": 1,
   "metadata": {
    "collapsed": true,
    "deletable": true,
    "editable": true
   },
   "outputs": [],
   "source": [
    "# for Python 2: use print only as a function\n",
    "from __future__ import print_function"
   ]
  },
  {
   "cell_type": "markdown",
   "metadata": {
    "deletable": true,
    "editable": true
   },
   "source": [
    "## Homework 1: FAA tower closures\n",
    "\n",
    "A list of FAA tower closures has been copied from a [PDF](http://www.faa.gov/news/media/fct_closed.pdf) into the file **`faa.txt`**, which is stored in the **`data`** directory of the course repository."
   ]
  },
  {
   "cell_type": "code",
   "execution_count": 2,
   "metadata": {
    "collapsed": true,
    "deletable": true,
    "editable": true
   },
   "outputs": [],
   "source": [
    "# read the file into a single string\n",
    "with open('faa.txt') as f:\n",
    "    data = f.read()"
   ]
  },
  {
   "cell_type": "code",
   "execution_count": 3,
   "metadata": {
    "collapsed": false,
    "deletable": true,
    "editable": true
   },
   "outputs": [
    {
     "data": {
      "text/plain": [
       "5574"
      ]
     },
     "execution_count": 3,
     "metadata": {},
     "output_type": "execute_result"
    }
   ],
   "source": [
    "# check the number of characters\n",
    "len(data)"
   ]
  },
  {
   "cell_type": "code",
   "execution_count": 4,
   "metadata": {
    "collapsed": false,
    "deletable": true,
    "editable": true
   },
   "outputs": [
    {
     "name": "stdout",
     "output_type": "stream",
     "text": [
      "FAA Contract Tower Closure List\n",
      "(149 FCTs)\n",
      "3-22-2013\n",
      "LOC\n",
      "ID Facility Name City State\n",
      "DHN DOTHAN RGNL DOTHAN AL\n",
      "TCL TUSCALOOSA RGNL TUSCALOOSA AL\n",
      "FYV DRAKE FIELD FAYETTEVILLE AR\n",
      "TXK TEXARKANA RGNL-WEBB FIELD TEXARKANA AR\n",
      "GEU GLENDALE MUNI GLENDALE AZ\n",
      "GYR PHOENIX GOODYEAR GOODYEAR AZ\n",
      "IFP LAUGHLIN/BULLHEAD INTL BULLHEAD CITY AZ\n",
      "RYN RYAN FIELD TUCSON AZ\n",
      "FUL FULLERTON MUNI FULLERTON CA\n",
      "MER CASTLE ATWATER CA\n",
      "OXR OXNARD OXNARD CA\n",
      "RAL RIVERSIDE MUNI RIVERSIDE CA\n",
      "RNM RAMONA RAMONA CA\n",
      "SAC SACRAMENTO EXECU\n"
     ]
    }
   ],
   "source": [
    "# examine the first 500 characters\n",
    "print(data[0:500])"
   ]
  },
  {
   "cell_type": "code",
   "execution_count": 5,
   "metadata": {
    "collapsed": false,
    "deletable": true,
    "editable": true
   },
   "outputs": [
    {
     "name": "stdout",
     "output_type": "stream",
     "text": [
      " YAKIMA WA\n",
      "CWA CENTRAL WISCONSIN MOSINEE WI\n",
      "EAU CHIPPEWA VALLEY RGNL EAU CLAIRE WI\n",
      "ENW KENOSHA RGNL KENOSHA WI\n",
      "Page 3 of 4\n",
      "FAA Contract Tower Closure List\n",
      "(149 FCTs)\n",
      "3-22-2013\n",
      "LOC\n",
      "ID Facility Name City State\n",
      "JVL SOUTHERN WISCONSIN RGNL JANESVILLE WI\n",
      "LSE LA CROSSE MUNI LA CROSSE WI\n",
      "MWC LAWRENCE J TIMMERMAN MILWAUKEE WI\n",
      "OSH WITTMAN RGNL OSHKOSH WI\n",
      "UES WAUKESHA COUNTY WAUKESHA WI\n",
      "HLG WHEELING OHIO CO WHEELING WV\n",
      "LWB GREENBRIER VALLEY LEWISBURG WV\n",
      "PKB MID-OHIO VALLEY RGNL PARKERSBURG WV\n",
      "Page 4 of 4\n",
      "\n"
     ]
    }
   ],
   "source": [
    "# examine the last 500 characters\n",
    "print(data[-500:])"
   ]
  },
  {
   "cell_type": "markdown",
   "metadata": {
    "deletable": true,
    "editable": true
   },
   "source": [
    "Your assignment is to **create a list of tuples** containing the **tower IDs** and the **states** they are located in.\n",
    "\n",
    "Here is the **expected output:**\n",
    "\n",
    "> `faa = [('DHN', 'AL'), ('TCL', 'AL'), ..., ('PKB', 'WV')]`"
   ]
  },
  {
   "cell_type": "code",
   "execution_count": 6,
   "metadata": {
    "collapsed": true,
    "deletable": true,
    "editable": true
   },
   "outputs": [],
   "source": [
    "import re"
   ]
  },
  {
   "cell_type": "code",
   "execution_count": 7,
   "metadata": {
    "collapsed": false,
    "deletable": true,
    "editable": true
   },
   "outputs": [],
   "source": [
    "match = re.findall(r'([A-Z]{3}) [\\w -]+([A-Z]{2})',data)"
   ]
  },
  {
   "cell_type": "code",
   "execution_count": 8,
   "metadata": {
    "collapsed": false,
    "deletable": true,
    "editable": true
   },
   "outputs": [
    {
     "data": {
      "text/plain": [
       "160"
      ]
     },
     "execution_count": 8,
     "metadata": {},
     "output_type": "execute_result"
    }
   ],
   "source": [
    "len(match)"
   ]
  },
  {
   "cell_type": "code",
   "execution_count": 9,
   "metadata": {
    "collapsed": false,
    "deletable": true,
    "editable": true
   },
   "outputs": [
    {
     "data": {
      "text/plain": [
       "[('DHN', 'AL'),\n",
       " ('TCL', 'AL'),\n",
       " ('FYV', 'AR'),\n",
       " ('TXK', 'AR'),\n",
       " ('GEU', 'AZ'),\n",
       " ('GYR', 'AZ'),\n",
       " ('IFP', 'IN'),\n",
       " ('EAD', 'AZ'),\n",
       " ('RYN', 'AZ'),\n",
       " ('FUL', 'CA')]"
      ]
     },
     "execution_count": 9,
     "metadata": {},
     "output_type": "execute_result"
    }
   ],
   "source": [
    "match[0:10]"
   ]
  },
  {
   "cell_type": "code",
   "execution_count": 10,
   "metadata": {
    "collapsed": false,
    "deletable": true,
    "editable": true
   },
   "outputs": [
    {
     "data": {
      "text/plain": [
       "[('EAU', 'WI'),\n",
       " ('ENW', 'WI'),\n",
       " ('JVL', 'WI'),\n",
       " ('LSE', 'WI'),\n",
       " ('MWC', 'WI'),\n",
       " ('OSH', 'WI'),\n",
       " ('UES', 'WI'),\n",
       " ('HLG', 'WV'),\n",
       " ('LWB', 'WV'),\n",
       " ('PKB', 'WV')]"
      ]
     },
     "execution_count": 10,
     "metadata": {},
     "output_type": "execute_result"
    }
   ],
   "source": [
    "match[-10:]"
   ]
  },
  {
   "cell_type": "markdown",
   "metadata": {
    "deletable": true,
    "editable": true
   },
   "source": [
    "As a **bonus task**, use regular expressions to extract the **number of closures** listed in the second line of the file (149), and then use an **assertion** to check that the number of closures is equal to the length of the `faa` list."
   ]
  },
  {
   "cell_type": "code",
   "execution_count": 11,
   "metadata": {
    "collapsed": false,
    "deletable": true,
    "editable": true
   },
   "outputs": [
    {
     "name": "stdout",
     "output_type": "stream",
     "text": [
      "149\n"
     ]
    }
   ],
   "source": [
    "match = re.search('\\((\\d+) \\w+\\)',data)\n",
    "print(match.group(1))"
   ]
  },
  {
   "cell_type": "markdown",
   "metadata": {
    "deletable": true,
    "editable": true
   },
   "source": [
    "## Homework 2: Stack Overflow reputation\n",
    "\n",
    "I have downloaded my **Stack Overflow reputation history** into the file **`reputation.txt`**, which is stored in the **`data`** directory of the course repository. (If you are a Stack Overflow user with a reputation of 10 or more, you should be able to [download your own reputation history](http://stackoverflow.com/reputation).)\n",
    "\n",
    "We are only interested in the lines that **begin with two dashes**, such as:\n",
    "\n",
    "> `-- 2012-08-30 rep +5    = 6`\n",
    "\n",
    "That line can be interpreted as follows: \"On 2012-08-30, my reputation increased by 5, bringing my reputation total to 6.\""
   ]
  },
  {
   "cell_type": "code",
   "execution_count": 12,
   "metadata": {
    "collapsed": true
   },
   "outputs": [],
   "source": [
    "# read the file into a single string\n",
    "with open('reputation.txt') as f:\n",
    "    rep = f.read()"
   ]
  },
  {
   "cell_type": "code",
   "execution_count": 13,
   "metadata": {
    "collapsed": false
   },
   "outputs": [
    {
     "name": "stdout",
     "output_type": "stream",
     "text": [
      "total votes: 36\n",
      " 2  12201376 (5)\n",
      "-- 2012-08-30 rep +5    = 6         \n",
      " 2  13822612 (10)\n",
      "-- 2012-12-11 rep +10   = 16        \n",
      " 2  13822612 (10)\n",
      "-- 2013-03-20 rep +10   = 26        \n",
      "-- 2013-12-05 rep 0     = 26        \n",
      "-- 2014-01-25 rep 0     = 26        \n",
      " 16  7141669 (2)\n",
      "-- 2014-03-19 rep +2    = 28        \n",
      " 1  12202249 (2)\n",
      "-- 2014-05-11 rep +2    = 30        \n",
      " 16 23599806 (2)\n",
      " 2  23597220 (10)\n",
      "-- 2014-05-12 rep +12   = 42        \n",
      " 2  13822612 (10)\n",
      "-- 2014-06-12 rep +10   = 52        \n",
      " 2  2359722\n"
     ]
    }
   ],
   "source": [
    "print(rep[:500])"
   ]
  },
  {
   "cell_type": "code",
   "execution_count": 14,
   "metadata": {
    "collapsed": false
   },
   "outputs": [
    {
     "name": "stdout",
     "output_type": "stream",
     "text": [
      "-09-07 rep +10   = 318       \n",
      " 3   1839257 (-1)\n",
      "-- 2015-10-14 rep -1    = 317       \n",
      "\n",
      "** rep today: 0\n",
      "** rep this week (2015-11-08 - 2015-11-14): 0\n",
      "** rep this month (2015-11-01 - 2015-11-30): 0\n",
      "** rep this quarter (2015-10-01 - 2015-12-31): -1\n",
      "** rep this year (2015-01-01 - 2015-12-31): 109\n",
      "** rep from bonuses: 100\n",
      "** total rep 317 :)\n",
      "\n",
      "days represented 34\n",
      "rep cap was reached via rep from upvotes *only* on 0 days\n",
      "earned at least 200 reputation on 0 days\n",
      "earned 10 reputation from suggested edits\n",
      "\n"
     ]
    }
   ],
   "source": [
    "print(rep[-500:])"
   ]
  },
  {
   "cell_type": "markdown",
   "metadata": {
    "deletable": true,
    "editable": true
   },
   "source": [
    "Your assignment is to **create a list of tuples** containing only these dated entries, including the **date**, **reputation change** (regardless of whether it is positive/negative/zero), and **running total**.\n",
    "\n",
    "Here is the **expected output:**\n",
    "\n",
    "> `rep = [('2012-08-30', '+5', '6'), ('2012-12-11', '+10', '16'), ...,  ('2015-10-14', '-1', '317')]`"
   ]
  },
  {
   "cell_type": "code",
   "execution_count": 15,
   "metadata": {
    "collapsed": true
   },
   "outputs": [],
   "source": [
    "import re"
   ]
  },
  {
   "cell_type": "code",
   "execution_count": 16,
   "metadata": {
    "collapsed": false
   },
   "outputs": [
    {
     "data": {
      "text/plain": [
       "[('2012-08-30 ', '+5', '6'),\n",
       " ('2012-12-11 ', '+10', '16'),\n",
       " ('2013-03-20 ', '+10', '26'),\n",
       " ('2013-12-05 ', '0', '26'),\n",
       " ('2014-01-25 ', '0', '26'),\n",
       " ('2014-03-19 ', '+2', '28'),\n",
       " ('2014-05-11 ', '+2', '30'),\n",
       " ('2014-05-12 ', '+12', '42'),\n",
       " ('2014-06-12 ', '+10', '52'),\n",
       " ('2014-06-26 ', '+10', '62'),\n",
       " ('2014-07-05 ', '0', '62'),\n",
       " ('2014-09-02 ', '0', '62'),\n",
       " ('2014-09-03 ', '+10', '72'),\n",
       " ('2014-10-28 ', '0', '72'),\n",
       " ('2014-11-14 ', '+10', '82'),\n",
       " ('2014-11-18 ', '+2', '84'),\n",
       " ('2014-12-08 ', '+2', '86'),\n",
       " ('2014-12-09 ', '+10', '96'),\n",
       " ('2014-12-12 ', '+2', '98'),\n",
       " ('2014-12-24 ', '+10', '108'),\n",
       " ('2015-02-03 ', '0', '108'),\n",
       " ('2015-02-20 ', '+10', '118'),\n",
       " ('2015-03-28 ', '+10', '128'),\n",
       " ('2015-04-26 ', '+10', '138'),\n",
       " ('2015-05-05 ', '+10', '148'),\n",
       " ('2015-05-26 ', '+10', '158'),\n",
       " ('2015-05-27 ', '+20', '178'),\n",
       " ('2015-06-09 ', '0', '178'),\n",
       " ('2015-07-03 ', '+10', '188'),\n",
       " ('2015-07-06 ', '0', '188'),\n",
       " ('2015-07-22 ', '+110', '298'),\n",
       " ('2015-08-21 ', '+10', '308'),\n",
       " ('2015-09-07 ', '+10', '318'),\n",
       " ('2015-10-14 ', '-1', '317')]"
      ]
     },
     "execution_count": 16,
     "metadata": {},
     "output_type": "execute_result"
    }
   ],
   "source": [
    "match = re.findall(r'-- ([0-9 -]+)\\w+ ([0-9+-]+)+\\W+([0-9]+)',rep)\n",
    "match"
   ]
  },
  {
   "cell_type": "markdown",
   "metadata": {
    "deletable": true,
    "editable": true
   },
   "source": [
    "As a **bonus task**, convert this list of tuples into a **pandas DataFrame**. It should have appropriate column names, and the second and third columns should be of type integer (rather than string/object)."
   ]
  },
  {
   "cell_type": "code",
   "execution_count": 17,
   "metadata": {
    "collapsed": false
   },
   "outputs": [
    {
     "data": {
      "text/plain": [
       "0       6\n",
       "1      16\n",
       "2      26\n",
       "3      26\n",
       "4      26\n",
       "5      28\n",
       "6      30\n",
       "7      42\n",
       "8      52\n",
       "9      62\n",
       "10     62\n",
       "11     62\n",
       "12     72\n",
       "13     72\n",
       "14     82\n",
       "15     84\n",
       "16     86\n",
       "17     96\n",
       "18     98\n",
       "19    108\n",
       "20    108\n",
       "21    118\n",
       "22    128\n",
       "23    138\n",
       "24    148\n",
       "25    158\n",
       "26    178\n",
       "27    178\n",
       "28    188\n",
       "29    188\n",
       "30    298\n",
       "31    308\n",
       "32    318\n",
       "33    317\n",
       "Name: rep_total, dtype: int64"
      ]
     },
     "execution_count": 17,
     "metadata": {},
     "output_type": "execute_result"
    }
   ],
   "source": [
    "import pandas as pd\n",
    "df = pd.DataFrame(match, columns=['date', 'rep_change', 'rep_total'])\n",
    "df.rep_change.astype(int)\n",
    "df.rep_total.astype(int)"
   ]
  },
  {
   "cell_type": "code",
   "execution_count": 18,
   "metadata": {
    "collapsed": false
   },
   "outputs": [
    {
     "data": {
      "text/html": [
       "<div>\n",
       "<table border=\"1\" class=\"dataframe\">\n",
       "  <thead>\n",
       "    <tr style=\"text-align: right;\">\n",
       "      <th></th>\n",
       "      <th>date</th>\n",
       "      <th>rep_change</th>\n",
       "      <th>rep_total</th>\n",
       "    </tr>\n",
       "  </thead>\n",
       "  <tbody>\n",
       "    <tr>\n",
       "      <th>0</th>\n",
       "      <td>2012-08-30</td>\n",
       "      <td>+5</td>\n",
       "      <td>6</td>\n",
       "    </tr>\n",
       "    <tr>\n",
       "      <th>1</th>\n",
       "      <td>2012-12-11</td>\n",
       "      <td>+10</td>\n",
       "      <td>16</td>\n",
       "    </tr>\n",
       "    <tr>\n",
       "      <th>2</th>\n",
       "      <td>2013-03-20</td>\n",
       "      <td>+10</td>\n",
       "      <td>26</td>\n",
       "    </tr>\n",
       "    <tr>\n",
       "      <th>3</th>\n",
       "      <td>2013-12-05</td>\n",
       "      <td>0</td>\n",
       "      <td>26</td>\n",
       "    </tr>\n",
       "    <tr>\n",
       "      <th>4</th>\n",
       "      <td>2014-01-25</td>\n",
       "      <td>0</td>\n",
       "      <td>26</td>\n",
       "    </tr>\n",
       "  </tbody>\n",
       "</table>\n",
       "</div>"
      ],
      "text/plain": [
       "          date rep_change rep_total\n",
       "0  2012-08-30          +5         6\n",
       "1  2012-12-11         +10        16\n",
       "2  2013-03-20         +10        26\n",
       "3  2013-12-05           0        26\n",
       "4  2014-01-25           0        26"
      ]
     },
     "execution_count": 18,
     "metadata": {},
     "output_type": "execute_result"
    }
   ],
   "source": [
    "df.head()"
   ]
  }
 ],
 "metadata": {
  "kernelspec": {
   "display_name": "Python 3",
   "language": "python",
   "name": "python3"
  },
  "language_info": {
   "codemirror_mode": {
    "name": "ipython",
    "version": 3
   },
   "file_extension": ".py",
   "mimetype": "text/x-python",
   "name": "python",
   "nbconvert_exporter": "python",
   "pygments_lexer": "ipython3",
   "version": "3.4.3"
  }
 },
 "nbformat": 4,
 "nbformat_minor": 0
}
